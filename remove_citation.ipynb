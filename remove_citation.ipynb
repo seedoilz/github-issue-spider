{
 "cells": [
  {
   "cell_type": "code",
   "execution_count": 4,
   "metadata": {
    "collapsed": true,
    "ExecuteTime": {
     "end_time": "2023-05-10T08:25:56.431712Z",
     "start_time": "2023-05-10T08:25:56.425764Z"
    }
   },
   "outputs": [],
   "source": [
    "import os"
   ]
  },
  {
   "cell_type": "code",
   "execution_count": 5,
   "outputs": [],
   "source": [
    "folder_path = './v1.5'"
   ],
   "metadata": {
    "collapsed": false,
    "ExecuteTime": {
     "end_time": "2023-05-10T08:25:56.951724Z",
     "start_time": "2023-05-10T08:25:56.947790Z"
    }
   }
  },
  {
   "cell_type": "code",
   "execution_count": 9,
   "outputs": [],
   "source": [
    "for filename in os.listdir(folder_path):\n",
    "    if filename == '.DS_Store':\n",
    "        continue\n",
    "    file_path = os.path.join(folder_path,filename)\n",
    "    if os.path.isfile(file_path):\n",
    "        with open(file_path, 'r+') as file:\n",
    "            lines = file.readlines()\n",
    "            pred_line = 'ANOTHER_TEXT_BEGIN'\n",
    "            del_lines = []\n",
    "            for index, line in enumerate(lines):\n",
    "                if line.startswith('>') and pred_line == 'ANOTHER_TEXT_BEGIN\\n':\n",
    "                    del_lines.append(index)\n",
    "                pred_line = line\n",
    "            for del_index in del_lines:\n",
    "                del lines[del_index]\n",
    "            file.seek(0)\n",
    "            file.truncate(0)\n",
    "            file.writelines(lines)\n",
    "            file.close()"
   ],
   "metadata": {
    "collapsed": false,
    "ExecuteTime": {
     "end_time": "2023-05-10T08:30:46.126039Z",
     "start_time": "2023-05-10T08:30:46.109693Z"
    }
   }
  },
  {
   "cell_type": "code",
   "execution_count": null,
   "outputs": [],
   "source": [],
   "metadata": {
    "collapsed": false
   }
  }
 ],
 "metadata": {
  "kernelspec": {
   "display_name": "Python 3",
   "language": "python",
   "name": "python3"
  },
  "language_info": {
   "codemirror_mode": {
    "name": "ipython",
    "version": 2
   },
   "file_extension": ".py",
   "mimetype": "text/x-python",
   "name": "python",
   "nbconvert_exporter": "python",
   "pygments_lexer": "ipython2",
   "version": "2.7.6"
  }
 },
 "nbformat": 4,
 "nbformat_minor": 0
}
