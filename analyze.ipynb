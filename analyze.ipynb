{
 "cells": [
  {
   "cell_type": "code",
   "execution_count": 1,
   "metadata": {
    "collapsed": true,
    "ExecuteTime": {
     "end_time": "2023-05-15T13:02:39.440796Z",
     "start_time": "2023-05-15T13:02:39.436769Z"
    }
   },
   "outputs": [],
   "source": [
    "import os"
   ]
  },
  {
   "cell_type": "code",
   "execution_count": 2,
   "outputs": [],
   "source": [
    "folder_path = './v1.5'"
   ],
   "metadata": {
    "collapsed": false,
    "ExecuteTime": {
     "end_time": "2023-05-15T13:02:40.247570Z",
     "start_time": "2023-05-15T13:02:40.243424Z"
    }
   }
  },
  {
   "cell_type": "code",
   "execution_count": 3,
   "outputs": [
    {
     "name": "stderr",
     "output_type": "stream",
     "text": [
      "Finished! Results in: ./v1.5/FORMATsuperset_195640_out.txt\n",
      "Finished! Results in: ./v1.5/FORMATsuperset_193600_out.txt\n",
      "Finished! Results in: ./v1.5/FORMATsuperset_217610_out.txt\n",
      "Finished! Results in: ./v1.5/FORMATsuperset_217590_out.txt\n",
      "Finished! Results in: ./v1.5/FORMATsuperset_212160_out.txt\n",
      "Finished! Results in: ./v1.5/FORMATsuperset_218530_out.txt\n",
      "Finished! Results in: ./v1.5/FORMATsuperset_196580_out.txt\n",
      "Finished! Results in: ./v1.5/FORMATsuperset_217290_out.txt\n",
      "Finished! Results in: ./v1.5/FORMATsuperset_225910_out.txt\n",
      "Finished! Results in: ./v1.5/FORMATsuperset_220220_out.txt\n",
      "Finished! Results in: ./v1.5/FORMATsuperset_192770_out.txt\n",
      "Finished! Results in: ./v1.5/FORMATsuperset_221960_out.txt\n",
      "Finished! Results in: ./v1.5/FORMATsuperset_191000_out.txt\n",
      "Finished! Results in: ./v1.5/FORMATsuperset_216890_out.txt\n",
      "Finished! Results in: ./v1.5/FORMATsuperset_189590_out.txt\n",
      "Finished! Results in: ./v1.5/FORMATsuperset_201550_out.txt\n",
      "Finished! Results in: ./v1.5/FORMATsuperset_218950_out.txt\n",
      "Finished! Results in: ./v1.5/FORMATsuperset_221890_out.txt\n",
      "Finished! Results in: ./v1.5/FORMATsuperset_220380_out.txt\n",
      "Finished! Results in: ./v1.5/FORMATsuperset_195350_out.txt\n",
      "Finished! Results in: ./v1.5/FORMATsuperset_218740_out.txt\n",
      "Finished! Results in: ./v1.5/FORMATsuperset_218750_out.txt\n",
      "Finished! Results in: ./v1.5/FORMATsuperset_90270_out.txt\n",
      "Finished! Results in: ./v1.5/FORMATsuperset_172270_out.txt\n",
      "Finished! Results in: ./v1.5/FORMATsuperset_218110_out.txt\n",
      "Finished! Results in: ./v1.5/FORMATsuperset_195920_out.txt\n",
      "Finished! Results in: ./v1.5/FORMATsuperset_219640_out.txt\n",
      "Finished! Results in: ./v1.5/FORMATsuperset_199740_out.txt\n",
      "Finished! Results in: ./v1.5/FORMATsuperset_195470_out.txt\n",
      "Finished! Results in: ./v1.5/FORMATsuperset_195460_out.txt\n",
      "Finished! Results in: ./v1.5/FORMATsuperset_171430_out.txt\n",
      "Finished! Results in: ./v1.5/FORMATsuperset_201170_out.txt\n"
     ]
    }
   ],
   "source": [
    "for filename in os.listdir(folder_path):\n",
    "    if not filename.startswith(\"FORMAT\"):\n",
    "        continue\n",
    "    file_path = os.path.join(folder_path,filename)\n",
    "    if os.path.isfile(file_path):\n",
    "        os.system('java -jar SentiStrength.jar input ' + file_path)"
   ],
   "metadata": {
    "collapsed": false,
    "ExecuteTime": {
     "end_time": "2023-05-15T13:02:51.274342Z",
     "start_time": "2023-05-15T13:02:46.364992Z"
    }
   }
  },
  {
   "cell_type": "code",
   "execution_count": null,
   "outputs": [],
   "source": [],
   "metadata": {
    "collapsed": false
   }
  }
 ],
 "metadata": {
  "kernelspec": {
   "display_name": "Python 3",
   "language": "python",
   "name": "python3"
  },
  "language_info": {
   "codemirror_mode": {
    "name": "ipython",
    "version": 2
   },
   "file_extension": ".py",
   "mimetype": "text/x-python",
   "name": "python",
   "nbconvert_exporter": "python",
   "pygments_lexer": "ipython2",
   "version": "2.7.6"
  }
 },
 "nbformat": 4,
 "nbformat_minor": 0
}
