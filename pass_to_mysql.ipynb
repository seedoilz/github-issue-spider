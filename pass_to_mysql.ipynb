{
 "cells": [
  {
   "cell_type": "code",
   "execution_count": 1,
   "metadata": {
    "collapsed": true,
    "ExecuteTime": {
     "end_time": "2023-05-13T07:43:16.533897Z",
     "start_time": "2023-05-13T07:43:16.221202Z"
    }
   },
   "outputs": [],
   "source": [
    "import pymysql\n",
    "import os\n",
    "import pandas as pd\n",
    "import datetime"
   ]
  },
  {
   "cell_type": "code",
   "execution_count": 2,
   "outputs": [],
   "source": [
    "folder_path = './v1.5'"
   ],
   "metadata": {
    "collapsed": false,
    "ExecuteTime": {
     "end_time": "2023-05-13T07:43:17.309512Z",
     "start_time": "2023-05-13T07:43:17.301907Z"
    }
   }
  },
  {
   "cell_type": "code",
   "execution_count": 3,
   "outputs": [],
   "source": [
    "db = pymysql.connect(host='localhost',\n",
    "                     user='root',\n",
    "                     password='Czy026110',\n",
    "                     database='homework')\n",
    "cursor = db.cursor()\n",
    "sql = \"INSERT INTO project_superset (issue_number, internal_issue_number, username, created_at, ended_at, is_pull_request, labels, project_name, version_number, content, positive_score, negative_score) VALUES (%s, %s, %s, %s, %s, %s, %s, %s, %s, %s, %s, %s)\""
   ],
   "metadata": {
    "collapsed": false,
    "ExecuteTime": {
     "end_time": "2023-05-13T07:43:18.538198Z",
     "start_time": "2023-05-13T07:43:18.523599Z"
    }
   }
  },
  {
   "cell_type": "code",
   "execution_count": 4,
   "outputs": [],
   "source": [
    "for filename in os.listdir(folder_path):\n",
    "    if filename == '.DS_Store':\n",
    "        continue\n",
    "    if filename.startswith('FORMAT'):\n",
    "        continue\n",
    "    file_path = os.path.join(folder_path,filename)\n",
    "    project_name = ''\n",
    "    version_number = ''\n",
    "    issue_number = ''\n",
    "    username = ''\n",
    "    created_at = ''\n",
    "    ended_at = ''\n",
    "    is_pull_request = -1\n",
    "    labels = ''\n",
    "    if os.path.isfile(file_path):\n",
    "        print\n",
    "        with open(file_path, 'r') as file:\n",
    "            lines = file.readlines()\n",
    "            project_name = lines[1].replace('\\r','').replace('\\n','')\n",
    "            version_number = lines[2].replace('\\r','').replace('\\n','')\n",
    "            issue_number = lines[3].replace('\\r','').replace('\\n','')\n",
    "            username = lines[4].replace('\\r','').replace('\\n','')\n",
    "            created_at = lines[5].replace('\\r','').replace('\\n','')\n",
    "            cdt = datetime.datetime.strptime(created_at, \"%Y-%m-%dT%H:%M:%SZ\")\n",
    "            cdate = cdt.date()\n",
    "            ctime = cdt.time()\n",
    "            created_at = str(cdate) + ' ' + str(ctime)\n",
    "            ended_at = lines[6].replace('\\r','').replace('\\n','')\n",
    "            if ended_at != 'None':\n",
    "                edt = datetime.datetime.strptime(ended_at, \"%Y-%m-%dT%H:%M:%SZ\")\n",
    "                edate = edt.date()\n",
    "                etime = edt.time()\n",
    "                ended_at = str(edate) + ' ' + str(etime)\n",
    "            if lines[7].replace('\\r','').replace('\\n','') == 'not_pull_request':\n",
    "                is_pull_request = 0\n",
    "            else:\n",
    "                is_pull_request = 1\n",
    "            labels = lines[8].replace('\\r','').replace('\\n','')\n",
    "            file.close()\n",
    "\n",
    "    result_filename = 'FORMAT' + filename.replace('.txt','') + '0_out.txt'\n",
    "    result_file_path = os.path.join(folder_path,result_filename)\n",
    "\n",
    "    if os.path.isfile(result_file_path):\n",
    "        df = pd.read_csv(result_file_path,sep='\\t',header=None,skiprows=[0])\n",
    "        df.columns = ['Positive','Negative', 'Text']\n",
    "        for index, row in df.iterrows():\n",
    "            if index == 0:\n",
    "                continue\n",
    "            positive_score = row['Positive']\n",
    "            negative_score = row['Negative']\n",
    "            content = row['Text']\n",
    "            internal_issue_number = index\n",
    "            try:\n",
    "                cursor.execute(sql, (issue_number, internal_issue_number, username, created_at, ended_at, is_pull_request, labels, project_name, version_number, content, positive_score, negative_score))\n",
    "                db.commit()\n",
    "            except:\n",
    "               db.rollback()\n",
    "db.close()"
   ],
   "metadata": {
    "collapsed": false,
    "ExecuteTime": {
     "end_time": "2023-05-13T07:43:19.243664Z",
     "start_time": "2023-05-13T07:43:19.141684Z"
    }
   }
  },
  {
   "cell_type": "code",
   "execution_count": null,
   "outputs": [],
   "source": [],
   "metadata": {
    "collapsed": false
   }
  }
 ],
 "metadata": {
  "kernelspec": {
   "display_name": "Python 3",
   "language": "python",
   "name": "python3"
  },
  "language_info": {
   "codemirror_mode": {
    "name": "ipython",
    "version": 2
   },
   "file_extension": ".py",
   "mimetype": "text/x-python",
   "name": "python",
   "nbconvert_exporter": "python",
   "pygments_lexer": "ipython2",
   "version": "2.7.6"
  }
 },
 "nbformat": 4,
 "nbformat_minor": 0
}
