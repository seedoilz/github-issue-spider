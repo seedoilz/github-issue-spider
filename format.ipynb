{
 "cells": [
  {
   "cell_type": "code",
   "execution_count": 3,
   "metadata": {
    "collapsed": true,
    "ExecuteTime": {
     "end_time": "2023-05-10T08:43:54.961491Z",
     "start_time": "2023-05-10T08:43:54.956744Z"
    }
   },
   "outputs": [],
   "source": [
    "import os"
   ]
  },
  {
   "cell_type": "code",
   "execution_count": 4,
   "outputs": [],
   "source": [
    "folder_path = './v1.5'"
   ],
   "metadata": {
    "collapsed": false,
    "ExecuteTime": {
     "end_time": "2023-05-10T08:43:55.496588Z",
     "start_time": "2023-05-10T08:43:55.493359Z"
    }
   }
  },
  {
   "cell_type": "code",
   "execution_count": 6,
   "outputs": [],
   "source": [
    "for filename in os.listdir(folder_path):\n",
    "    if filename == '.DS_Store':\n",
    "        continue\n",
    "    file_path = os.path.join(folder_path,filename)\n",
    "    if os.path.isfile(file_path):\n",
    "        with open(file_path, 'r+') as file:\n",
    "            lines = file.readlines()\n",
    "            new_file_name = \"FORMAT\" + filename\n",
    "            new_file_path = os.path.join(folder_path,new_file_name)\n",
    "            new_line = \"\"\n",
    "            with open(new_file_path,'w') as new_file:\n",
    "                for index, line in enumerate(lines):\n",
    "                    if index <= 9:\n",
    "                        continue\n",
    "                    if line == 'ANOTHER_TEXT_BEGIN\\n':\n",
    "                        new_file.write(new_line)\n",
    "                        new_file.write(\"\\r\\n\")\n",
    "                        new_line = \"\"\n",
    "                    else:\n",
    "                        new_line = new_line + line.replace(\"\\n\", \" \").replace(\"\\r\", \" \")\n",
    "                new_file.close()\n",
    "            file.close()"
   ],
   "metadata": {
    "collapsed": false,
    "ExecuteTime": {
     "end_time": "2023-05-10T08:44:55.889753Z",
     "start_time": "2023-05-10T08:44:55.873923Z"
    }
   }
  },
  {
   "cell_type": "code",
   "execution_count": null,
   "outputs": [],
   "source": [],
   "metadata": {
    "collapsed": false
   }
  }
 ],
 "metadata": {
  "kernelspec": {
   "display_name": "Python 3",
   "language": "python",
   "name": "python3"
  },
  "language_info": {
   "codemirror_mode": {
    "name": "ipython",
    "version": 2
   },
   "file_extension": ".py",
   "mimetype": "text/x-python",
   "name": "python",
   "nbconvert_exporter": "python",
   "pygments_lexer": "ipython2",
   "version": "2.7.6"
  }
 },
 "nbformat": 4,
 "nbformat_minor": 0
}
