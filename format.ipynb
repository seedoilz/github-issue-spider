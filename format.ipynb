{
 "cells": [
  {
   "cell_type": "code",
   "execution_count": 1,
   "metadata": {
    "collapsed": true,
    "ExecuteTime": {
     "end_time": "2023-05-15T12:44:28.489140Z",
     "start_time": "2023-05-15T12:44:28.486620Z"
    }
   },
   "outputs": [],
   "source": [
    "import os"
   ]
  },
  {
   "cell_type": "code",
   "execution_count": 2,
   "outputs": [],
   "source": [
    "folder_path = './v1.5'"
   ],
   "metadata": {
    "collapsed": false,
    "ExecuteTime": {
     "end_time": "2023-05-15T12:44:28.491330Z",
     "start_time": "2023-05-15T12:44:28.490021Z"
    }
   }
  },
  {
   "cell_type": "code",
   "execution_count": 17,
   "outputs": [],
   "source": [
    "for filename in os.listdir(folder_path):\n",
    "    if filename == '.DS_Store':\n",
    "        continue\n",
    "    file_path = os.path.join(folder_path,filename)\n",
    "    if filename.startswith('FORMAT'):\n",
    "        continue\n",
    "    if os.path.isfile(file_path):\n",
    "        with open(file_path, 'r+') as file:\n",
    "            lines = file.readlines()\n",
    "            new_file_name = \"FORMAT\" + filename\n",
    "            new_file_path = os.path.join(folder_path,new_file_name)\n",
    "            new_line = \"\"\n",
    "            skip = False\n",
    "            with open(new_file_path,'w') as new_file:\n",
    "                for index, line in enumerate(lines):\n",
    "                    if index <= 9:\n",
    "                        continue\n",
    "                    if skip:\n",
    "                        if line == 'BEGIN_COMMENT\\n':\n",
    "                            skip = False\n",
    "                            continue\n",
    "                        else:\n",
    "                            continue\n",
    "                    if line == 'COMMENT_INFO\\n':\n",
    "                        new_file.write(new_line)\n",
    "                        new_file.write(\"\\r\\n\")\n",
    "                        new_line = \"\"\n",
    "                        skip = True\n",
    "                    elif index == len(lines) - 1:\n",
    "                        new_line = new_line + line.replace(\"\\n\", \" \").replace(\"\\r\", \" \")\n",
    "                        new_file.write(new_line)\n",
    "                        new_file.write(\"\\r\\n\")\n",
    "                    else:\n",
    "                        new_line = new_line + line.replace(\"\\n\", \" \").replace(\"\\r\", \" \")\n",
    "                new_file.close()\n",
    "            file.close()"
   ],
   "metadata": {
    "collapsed": false,
    "ExecuteTime": {
     "end_time": "2023-05-15T13:02:17.751662Z",
     "start_time": "2023-05-15T13:02:17.737990Z"
    }
   }
  }
 ],
 "metadata": {
  "kernelspec": {
   "display_name": "Python 3",
   "language": "python",
   "name": "python3"
  },
  "language_info": {
   "codemirror_mode": {
    "name": "ipython",
    "version": 2
   },
   "file_extension": ".py",
   "mimetype": "text/x-python",
   "name": "python",
   "nbconvert_exporter": "python",
   "pygments_lexer": "ipython2",
   "version": "2.7.6"
  }
 },
 "nbformat": 4,
 "nbformat_minor": 0
}
